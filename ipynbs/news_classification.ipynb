{
 "cells": [
  {
   "cell_type": "code",
   "execution_count": 1,
   "metadata": {},
   "outputs": [
    {
     "name": "stderr",
     "output_type": "stream",
     "text": [
      "/home2/sanika/miniconda3/envs/smai/lib/python3.7/site-packages/tqdm/auto.py:21: TqdmWarning: IProgress not found. Please update jupyter and ipywidgets. See https://ipywidgets.readthedocs.io/en/stable/user_install.html\n",
      "  from .autonotebook import tqdm as notebook_tqdm\n"
     ]
    },
    {
     "data": {
      "text/plain": [
       "<torch._C.Generator at 0x7fe2c45356b0>"
      ]
     },
     "execution_count": 1,
     "metadata": {},
     "output_type": "execute_result"
    }
   ],
   "source": [
    "import torch\n",
    "import torch.nn as nn\n",
    "import torch.optim as optim\n",
    "from torch.utils.data import DataLoader, Dataset\n",
    "from torchvision import datasets, transforms\n",
    "import csv\n",
    "import nltk\n",
    "from nltk.tokenize import word_tokenize\n",
    "from torchtext.vocab import build_vocab_from_iterator, Vocab\n",
    "import re\n",
    "import pickle\n",
    "from typing import List, Tuple, Optional\n",
    "from torch import swapaxes\n",
    "from torch.nn.utils.rnn import pad_sequence\n",
    "torch.manual_seed(13)"
   ]
  },
  {
   "cell_type": "code",
   "execution_count": 2,
   "metadata": {},
   "outputs": [
    {
     "data": {
      "text/plain": [
       "device(type='cuda')"
      ]
     },
     "execution_count": 2,
     "metadata": {},
     "output_type": "execute_result"
    }
   ],
   "source": [
    "device = torch.device('cuda' if torch.cuda.is_available() else 'cpu')\n",
    "device"
   ]
  },
  {
   "cell_type": "code",
   "execution_count": 3,
   "metadata": {},
   "outputs": [],
   "source": [
    "def load_data(file_path):\n",
    "    data = []\n",
    "    labels = []\n",
    "    with open(file_path, 'r') as file:\n",
    "        reader = csv.reader(file)\n",
    "        for row in reader:\n",
    "            data.append(row[1])\n",
    "            labels.append(row[0])\n",
    "    # delete the first element of the list (header)\n",
    "    del data[0]\n",
    "    del labels[0]\n",
    "    return data, labels"
   ]
  },
  {
   "cell_type": "code",
   "execution_count": 4,
   "metadata": {},
   "outputs": [],
   "source": [
    "# load data (the csv)\n",
    "train_data, train_labels = load_data('./ANLP-2/train.csv')\n",
    "test_data, test_labels = load_data('./ANLP-2/test.csv')"
   ]
  },
  {
   "cell_type": "code",
   "execution_count": 5,
   "metadata": {},
   "outputs": [],
   "source": [
    "def tokenize_data(data):\n",
    "    tokenized_data = []\n",
    "    for text in data:\n",
    "        text = re.sub(r'\\\\', ' ', text)\n",
    "        text = re.sub(r'\\\"', ' ', text)\n",
    "        text = re.sub(r'\\d+', '<NUMBER>', text)\n",
    "        text = text.lower()\n",
    "        text = re.sub(r'[!\"#$%&\\'()*+,-./:;<=>?@^_`{|}~]', ' ', text)\n",
    "        tokenized_data.append(word_tokenize(text))\n",
    "    return tokenized_data"
   ]
  },
  {
   "cell_type": "code",
   "execution_count": 6,
   "metadata": {},
   "outputs": [],
   "source": [
    "train_data = tokenize_data(train_data)\n",
    "test_data = tokenize_data(test_data)"
   ]
  },
  {
   "cell_type": "code",
   "execution_count": 7,
   "metadata": {},
   "outputs": [],
   "source": [
    "# load vocabulary\n",
    "# load from pt file\n",
    "vocab = torch.load('skip-gram-vocab.pt')\n",
    "\n",
    "word_vectors = torch.load('skip-gram-word-vectors.pt')"
   ]
  },
  {
   "cell_type": "code",
   "execution_count": 8,
   "metadata": {},
   "outputs": [
    {
     "data": {
      "image/png": "[encoded data removed]",
      "text/plain": [
       "<Figure size 432x288 with 1 Axes>"
      ]
     },
     "metadata": {
      "needs_background": "light"
     },
     "output_type": "display_data"
    }
   ],
   "source": [
    "# print a histogram of the lengths of the sentences\n",
    "import matplotlib.pyplot as plt\n",
    "import numpy as np\n",
    "sentence_lengths = [len(sentence) for sentence in train_data]\n",
    "plt.hist(sentence_lengths, bins=50)\n",
    "plt.xlabel('Sentence length')\n",
    "plt.ylabel('Frequency')\n",
    "plt.title('Histogram of sentence lengths')\n",
    "plt.show()"
   ]
  },
  {
   "cell_type": "code",
   "execution_count": 9,
   "metadata": {},
   "outputs": [],
   "source": [
    "OUT_OF_VOCAB = '<OOV>'\n",
    "PAD_TAG = '<PAD>'\n",
    "START_TAG = '<BOS>'\n",
    "END_TAG = '<EOS>'\n",
    "\n",
    "class POSDataset(Dataset):\n",
    "    def __init__(self, sentences, labels, vocabulary: Optional[Vocab] = None):\n",
    "        self.sentences = sentences\n",
    "        self.labels = labels\n",
    "        if vocabulary is None:\n",
    "            self.vocab = build_vocab_from_iterator(self.sentences, specials=[OUT_OF_VOCAB, PAD_TAG])\n",
    "            self.vocab.set_default_index(self.vocab[OUT_OF_VOCAB])\n",
    "        else:\n",
    "            self.vocab = vocabulary\n",
    "\n",
    "        # set default index\n",
    "        self.vocab.set_default_index(self.vocab[OUT_OF_VOCAB])\n",
    "\n",
    "        # Extract unique labels\n",
    "        self.labels_vocab = list(set(self.labels))\n",
    "        # sort\n",
    "        self.labels_vocab.sort()\n",
    "\n",
    "    def __len__(self):\n",
    "        return len(self.sentences)\n",
    "    \n",
    "    def __getitem__(self, idx):\n",
    "        return torch.tensor(self.vocab.lookup_indices(self.sentences[idx])), torch.tensor(self.labels_vocab.index(self.labels[idx]))\n",
    "\n",
    "    def format(self, batch, encodings) -> Tuple[torch.Tensor, torch.Tensor]:\n",
    "        # add <BOS> and <EOS> to the sentences\n",
    "        sentences, labels = zip(*batch)\n",
    "        sentences = list(sentences)\n",
    "        # add <BOS> and <EOS> to the sentences\n",
    "        sentences = [torch.tensor([self.vocab[START_TAG]] + list(s) + [self.vocab[END_TAG]]) for s in sentences]\n",
    "\n",
    "        sentences = pad_sequence(sentences, padding_value=self.vocab[PAD_TAG])\n",
    "        sentences = swapaxes(sentences, 0, 1)\n",
    "\n",
    "        # cut sentences off at length 50\n",
    "        sentences = sentences[:, :40]\n",
    "\n",
    "        # one hot encode the labels\n",
    "        labels = [torch.nn.functional.one_hot(torch.tensor(l), num_classes=len(self.labels_vocab)) for l in labels]\n",
    "\n",
    "        # encodings is a dictionary with each index corresponding to a word encoding. Map those to the sentences\n",
    "        # convert sentences to a list of list of tensors\n",
    "        sentences = [[encodings[int(i)] for i in s] for s in sentences]\n",
    "\n",
    "        # zip and return\n",
    "        return list(zip(sentences, labels))\n",
    "\n",
    "        \n"
   ]
  },
  {
   "cell_type": "code",
   "execution_count": 10,
   "metadata": {},
   "outputs": [],
   "source": [
    "train_dataset = POSDataset(train_data, train_labels, vocab)\n",
    "test_dataset = POSDataset(test_data, test_labels, vocab)"
   ]
  },
  {
   "cell_type": "code",
   "execution_count": 11,
   "metadata": {},
   "outputs": [
    {
     "name": "stderr",
     "output_type": "stream",
     "text": [
      "/home2/sanika/miniconda3/envs/smai/lib/python3.7/site-packages/ipykernel_launcher.py:44: UserWarning: To copy construct from a tensor, it is recommended to use sourceTensor.clone().detach() or sourceTensor.clone().detach().requires_grad_(True), rather than torch.tensor(sourceTensor).\n"
     ]
    }
   ],
   "source": [
    "train = train_dataset.format(train_dataset, word_vectors)\n",
    "test = test_dataset.format(test_dataset, word_vectors)"
   ]
  },
  {
   "cell_type": "code",
   "execution_count": 12,
   "metadata": {},
   "outputs": [],
   "source": [
    "# split train into train and validation\n",
    "train_size = int(0.8 * len(train))\n",
    "val_size = len(train) - train_size\n",
    "train, val = torch.utils.data.random_split(train, [train_size, val_size])"
   ]
  },
  {
   "cell_type": "code",
   "execution_count": 13,
   "metadata": {},
   "outputs": [],
   "source": [
    "loaders = {\n",
    "    'train': DataLoader(train, batch_size=128, shuffle=True),\n",
    "    'test': DataLoader(test, batch_size=128, shuffle=False),\n",
    "    'val': DataLoader(val, batch_size=128, shuffle=False)\n",
    "}"
   ]
  },
  {
   "cell_type": "code",
   "execution_count": 23,
   "metadata": {},
   "outputs": [],
   "source": [
    "class RNN_News_Classification(nn.Module):\n",
    "    def __init__(self, vocab_size, embedding_dim, hidden_dim, output_dim, n_layers):\n",
    "        super().__init__()\n",
    "        self.rnn = nn.LSTM(embedding_dim, hidden_dim, num_layers=n_layers, bidirectional=True, batch_first=True)\n",
    "        self.fc = nn.Linear(hidden_dim*2, output_dim)\n",
    "\n",
    "    def forward(self, text):\n",
    "        output, (hidden, cell) = self.rnn(text)\n",
    "        final_output = torch.cat((hidden[-2,:,:], hidden[-1,:,:]), dim=1)\n",
    "        output = self.fc(final_output)\n",
    "        return output\n",
    "\n",
    "    def fit(self, loaders, optimizer, criterion, n_epochs, device):\n",
    "        self.to(device)\n",
    "        self.train()\n",
    "        for epoch in range(n_epochs):\n",
    "            self.train()\n",
    "            total_loss = 0  \n",
    "            for i, (sentences, labels) in enumerate(loaders['train']):\n",
    "                # convert sentences to tensors\n",
    "                # sentences = sentences.to(device)\n",
    "                sentences = torch.stack(sentences).to(device)\n",
    "                sentences = sentences.permute(1, 0, 2)\n",
    "                labels = labels.to(device)\n",
    "                optimizer.zero_grad()\n",
    "                output = self(sentences)\n",
    "                labels = labels.float()\n",
    "                loss = criterion(output, labels)\n",
    "                loss.backward()\n",
    "                optimizer.step()\n",
    "                total_loss += loss.item()\n",
    "            print(f'Epoch {epoch+1}') \n",
    "            print(f'Loss: {total_loss/len(loaders[\"train\"])}')\n",
    "            \n",
    "            # evaluate\n",
    "            self.eval()\n",
    "            correct = 0\n",
    "            total = 0\n",
    "            total_loss = 0\n",
    "            with torch.no_grad():\n",
    "                for i, (sentences, labels) in enumerate(loaders['val']):\n",
    "                    # convert to tensors\n",
    "                    # sentences = sentences.to(device)\n",
    "                    sentences = torch.stack(sentences).to(device)\n",
    "                    sentences = sentences.permute(1, 0, 2)\n",
    "                    labels = labels.to(device)\n",
    "                    output = self(sentences)\n",
    "                    predicted = torch.argmax(output, dim=1)\n",
    "                    total += labels.size(0)\n",
    "                    original = torch.argmax(labels, dim=1)\n",
    "                    correct += (predicted == original).sum().item()\n",
    "                    labels = labels.float()\n",
    "                    loss = criterion(output, labels)\n",
    "                    total_loss += loss.item()\n",
    "            print(f'Validation Loss: {total_loss/len(loaders[\"val\"])}')\n",
    "            print(f'Validation Accuracy: {correct/total}')\n",
    "\n",
    "            \n",
    "    def evaluate(self, loaders, device):\n",
    "        self.to(device)\n",
    "        self.eval()\n",
    "        correct = 0\n",
    "        total = 0\n",
    "        with torch.no_grad():\n",
    "            for i, (sentences, labels) in enumerate(loaders['test']):\n",
    "                # convert to tensors\n",
    "                sentences = torch.stack(sentences).to(device)\n",
    "                sentences = sentences.permute(1, 0, 2)\n",
    "                labels = labels.to(device)\n",
    "                output = self(sentences)\n",
    "                predicted = torch.argmax(output, dim=1)\n",
    "                labels = torch.argmax(labels, dim=1)\n",
    "                total += labels.size(0)\n",
    "                correct += (predicted == labels).sum().item()\n",
    "        print(f'Test Accuracy: {correct/total}')"
   ]
  },
  {
   "cell_type": "code",
   "execution_count": 25,
   "metadata": {},
   "outputs": [
    {
     "name": "stdout",
     "output_type": "stream",
     "text": [
      "Epoch 1\n",
      "Loss: 0.5329164936542511\n",
      "Validation Loss: 0.3455353028913762\n",
      "Validation Accuracy: 0.8785833333333334\n",
      "Epoch 2\n",
      "Loss: 0.2902852557897568\n",
      "Validation Loss: 0.30731491950598167\n",
      "Validation Accuracy: 0.8917083333333333\n",
      "Epoch 3\n",
      "Loss: 0.2283319307466348\n",
      "Validation Loss: 0.31260934654385486\n",
      "Validation Accuracy: 0.8920416666666666\n",
      "Epoch 4\n",
      "Loss: 0.18545235445102057\n",
      "Validation Loss: 0.3097534636233715\n",
      "Validation Accuracy: 0.895375\n",
      "Epoch 5\n",
      "Loss: 0.15315355384349824\n",
      "Validation Loss: 0.3212684965989691\n",
      "Validation Accuracy: 0.8969166666666667\n",
      "Epoch 6\n",
      "Loss: 0.1210163178667426\n",
      "Validation Loss: 0.3560660979215135\n",
      "Validation Accuracy: 0.8942083333333334\n",
      "Epoch 7\n",
      "Loss: 0.09911053586006165\n",
      "Validation Loss: 0.3729638399437387\n",
      "Validation Accuracy: 0.895375\n",
      "Epoch 8\n",
      "Loss: 0.08080336098869642\n",
      "Validation Loss: 0.4146778533591869\n",
      "Validation Accuracy: 0.891125\n",
      "Epoch 9\n",
      "Loss: 0.06580434441069762\n",
      "Validation Loss: 0.44249027206542646\n",
      "Validation Accuracy: 0.8879166666666667\n",
      "Epoch 10\n",
      "Loss: 0.05802420016067723\n",
      "Validation Loss: 0.4598477893370263\n",
      "Validation Accuracy: 0.8899583333333333\n"
     ]
    }
   ],
   "source": [
    "model = RNN_News_Classification(len(vocab), 300, 128, len(train_dataset.labels_vocab), 2)\n",
    "optimizer = optim.Adam(model.parameters(), lr=0.0005)\n",
    "criterion = nn.CrossEntropyLoss()\n",
    "\n",
    "model.fit(loaders, optimizer, criterion, 10, device)"
   ]
  },
  {
   "cell_type": "code",
   "execution_count": 1,
   "metadata": {},
   "outputs": [
    {
     "ename": "NameError",
     "evalue": "name 'model' is not defined",
     "output_type": "error",
     "traceback": [
      "\u001b[0;31m---------------------------------------------------------------------------\u001b[0m",
      "\u001b[0;31mNameError\u001b[0m                                 Traceback (most recent call last)",
      "\u001b[0;32m<ipython-input-1-86642b9e852c>\u001b[0m in \u001b[0;36m<module>\u001b[0;34m\u001b[0m\n\u001b[0;32m----> 1\u001b[0;31m \u001b[0mmodel\u001b[0m\u001b[0;34m.\u001b[0m\u001b[0mevaluate\u001b[0m\u001b[0;34m(\u001b[0m\u001b[0mloaders\u001b[0m\u001b[0;34m,\u001b[0m \u001b[0mdevice\u001b[0m\u001b[0;34m)\u001b[0m\u001b[0;34m\u001b[0m\u001b[0;34m\u001b[0m\u001b[0m\n\u001b[0m",
      "\u001b[0;31mNameError\u001b[0m: name 'model' is not defined"
     ]
    }
   ],
   "source": [
    "model.evaluate(loaders, device)"
   ]
  }
 ],
 "metadata": {
  "kernelspec": {
   "display_name": "smai",
   "language": "python",
   "name": "python3"
  },
  "language_info": {
   "codemirror_mode": {
    "name": "ipython",
    "version": 3
   },
   "file_extension": ".py",
   "mimetype": "text/x-python",
   "name": "python",
   "nbconvert_exporter": "python",
   "pygments_lexer": "ipython3",
   "version": "3.7.16"
  }
 },
 "nbformat": 4,
 "nbformat_minor": 2
}
