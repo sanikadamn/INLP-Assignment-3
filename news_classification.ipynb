{
 "cells": [
  {
   "cell_type": "code",
   "execution_count": 7,
   "metadata": {},
   "outputs": [],
   "source": [
    "import torch\n",
    "import torch.nn as nn\n",
    "import torch.optim as optim\n",
    "from torch.utils.data import DataLoader, Dataset\n",
    "from torchvision import datasets, transforms\n",
    "import csv\n",
    "import nltk\n",
    "from nltk.tokenize import word_tokenize\n",
    "from torchtext.vocab import build_vocab_from_iterator, Vocab\n",
    "import re\n",
    "import pickle\n",
    "from typing import List, Tuple, Optional\n",
    "from torch import swapaxes\n",
    "from torch.nn.utils.rnn import pad_sequence\n",
    "torch.manual_seed(13)"
   ]
  },
  {
   "cell_type": "code",
   "execution_count": 2,
   "metadata": {},
   "outputs": [
    {
     "data": {
      "text/plain": [
       "device(type='cuda')"
      ]
     },
     "execution_count": 2,
     "metadata": {},
     "output_type": "execute_result"
    }
   ],
   "source": [
    "device = torch.device('cuda' if torch.cuda.is_available() else 'cpu')\n",
    "device"
   ]
  },
  {
   "cell_type": "code",
   "execution_count": 3,
   "metadata": {},
   "outputs": [],
   "source": [
    "def load_data(file_path):\n",
    "    data = []\n",
    "    with open(file_path, 'r') as file:\n",
    "        reader = csv.reader(file)\n",
    "        for row in reader:\n",
    "            data.append(row[1])\n",
    "    # delete the first element of the list (header)\n",
    "    del data[0]\n",
    "    return data"
   ]
  },
  {
   "cell_type": "code",
   "execution_count": 4,
   "metadata": {},
   "outputs": [],
   "source": [
    "# load data (the csv)\n",
    "train_data = load_data('./ANLP-2/train.csv')\n",
    "test_data = load_data('./ANLP-2/test.csv')"
   ]
  },
  {
   "cell_type": "code",
   "execution_count": null,
   "metadata": {},
   "outputs": [],
   "source": [
    "OUT_OF_VOCAB = \"<OOV>\"\n",
    "PAD_TAG = \"<PAD>\"\n",
    "\n",
    "class POSDataset(Dataset):\n",
    "    def __init__(self, sentences, labels, vocabulary: Optional[Vocab] = None):\n",
    "        self.sentences = sentences\n",
    "        self.labels = labels\n",
    "        if vocabulary is None:\n",
    "            self.vocab = build_vocab_from_iterator(self.sentences, specials=[OUT_OF_VOCAB, PAD_TAG])\n",
    "            self.vocab.set_default_index(self.vocab[OUT_OF_VOCAB])\n",
    "        else:\n",
    "            self.vocab = vocabulary\n",
    "\n",
    "    def __len__(self):\n",
    "        return len(self.sentences)\n",
    "    \n",
    "    def __getitem__(self, idx):\n",
    "        return torch.tensor(self.vocab.lookup_indices(self.sentences[idx])), torch.tensor(self.labels[idx])\n",
    "    \n",
    "    def format(self, batch, encodings) -> Tuple[torch.Tensor, torch.Tensor]:\n",
    "        # add <BOS> and <EOS> to the sentences\n",
    "        sentences, pos = zip(*batch)\n",
    "        sentences = list(sentences)\n",
    "        # add <BOS> and <EOS> to the sentences\n",
    "        sentences = pad_sequence(sentences, padding_value=self.vocab[PAD_TAG])\n",
    "        sentences = swapaxes(sentences, 0, 1)\n",
    "\n",
    "        # convert all the words in the sentences to the vector representation\n",
    "        for i in range(len(sentences)):\n",
    "            sentences[i] = encodings(sentences[i])\n",
    "\n",
    "        # conver to float\n",
    "        return list(zip(sentences, pos))\n",
    "\n",
    "        \n"
   ]
  },
  {
   "cell_type": "code",
   "execution_count": 6,
   "metadata": {},
   "outputs": [],
   "source": [
    "class Preprocess():\n",
    "    def __init__ (self, data):\n",
    "        self.data = data\n",
    "\n",
    "    def tokenize(self, data):\n",
    "        tokenized_data = []\n",
    "        for text in data:\n",
    "            text = re.sub(r'\\\\', ' ', text)\n",
    "            text = re.sub(r'\\d+', '<NUMBER>', text)\n",
    "            text = text.lower()\n",
    "            # remove punctuation\n",
    "            text = re.sub(r'[^\\w\\s]', ' ', text)\n",
    "            tokenized_data.append(word_tokenize(text))\n",
    "        return tokenized_data\n",
    "    \n",
    "    \n",
    "    def text_to_indices(self, tokenized_data, vocab):\n",
    "        indexed_data = []\n",
    "        for sentence in tokenized_data:\n",
    "            indexed_data.append([vocab[token] for token in sentence])\n",
    "        return indexed_data\n",
    "    \n",
    "    # def __call__(self):\n",
    "    #     tokenized_data = self.tokenize(self.data)\n",
    "    #     vocab = self.build_vocab(tokenized_data)\n",
    "    #     indexed_data = self.text_to_indices(tokenized_data, vocab)\n",
    "    #     return indexed_data, vocab, tokenized_data "
   ]
  },
  {
   "cell_type": "code",
   "execution_count": 8,
   "metadata": {},
   "outputs": [],
   "source": [
    "# read from picklefile\n",
    "with open('vocab.pkl', 'rb') as f:\n",
    "    vocab = pickle.load(f)"
   ]
  },
  {
   "cell_type": "code",
   "execution_count": 9,
   "metadata": {},
   "outputs": [],
   "source": [
    "# conver to indices\n",
    "preprocess = Preprocess(train_data)\n",
    "tokenized_data = preprocess.tokenize(train_data)\n",
    "indexed_data_train = preprocess.text_to_indices(tokenized_data, vocab)\n",
    "\n",
    "tokenized_data = preprocess.tokenize(test_data)\n",
    "indexed_data_test = preprocess.text_to_indices(tokenized_data, vocab)"
   ]
  },
  {
   "cell_type": "code",
   "execution_count": null,
   "metadata": {},
   "outputs": [],
   "source": [
    "class News_Classifier"
   ]
  }
 ],
 "metadata": {
  "kernelspec": {
   "display_name": "smai",
   "language": "python",
   "name": "python3"
  },
  "language_info": {
   "codemirror_mode": {
    "name": "ipython",
    "version": 3
   },
   "file_extension": ".py",
   "mimetype": "text/x-python",
   "name": "python",
   "nbconvert_exporter": "python",
   "pygments_lexer": "ipython3",
   "version": "3.7.16"
  }
 },
 "nbformat": 4,
 "nbformat_minor": 2
}
