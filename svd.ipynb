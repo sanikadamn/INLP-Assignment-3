{
 "cells": [
  {
   "cell_type": "markdown",
   "metadata": {},
   "source": [
    "# Training word vectors using SVD"
   ]
  },
  {
   "cell_type": "code",
   "execution_count": 9,
   "metadata": {},
   "outputs": [
    {
     "name": "stderr",
     "output_type": "stream",
     "text": [
      "[nltk_data] Downloading package punkt to /home2/sanika/nltk_data...\n",
      "[nltk_data]   Package punkt is already up-to-date!\n"
     ]
    }
   ],
   "source": [
    "import torch\n",
    "import torch.nn as nn\n",
    "import numpy as np\n",
    "import csv\n",
    "import nltk\n",
    "from nltk.tokenize import word_tokenize\n",
    "nltk.download('punkt')\n",
    "import re\n",
    "from torchtext.vocab import build_vocab_from_iterator\n",
    "# import scipy sparse matrix to use scipy.sparse.linalg.svds\n",
    "import scipy.sparse as sp\n",
    "import scipy.sparse.linalg as linalg\n",
    "from tqdm import tqdm"
   ]
  },
  {
   "cell_type": "code",
   "execution_count": 1,
   "metadata": {},
   "outputs": [],
   "source": [
    "# load textual data from csv file as a list of strings\n",
    "def load_data(file_path):\n",
    "    # load only the second column of the csv file\n",
    "    data = []\n",
    "    with open(file_path, 'r') as file:\n",
    "        reader = csv.reader(file)\n",
    "        for row in reader:\n",
    "            data.append(row[1])\n",
    "    # delete the first element of the list (header)\n",
    "    del data[0]\n",
    "    return data"
   ]
  },
  {
   "cell_type": "code",
   "execution_count": 3,
   "metadata": {},
   "outputs": [],
   "source": [
    "data = load_data('./ANLP-2/train.csv')"
   ]
  },
  {
   "cell_type": "code",
   "execution_count": 4,
   "metadata": {},
   "outputs": [],
   "source": [
    "class Preprocess():\n",
    "    def __init__ (self, data):\n",
    "        self.data = data\n",
    "\n",
    "    def tokenize(self, data):\n",
    "        tokenized_data = []\n",
    "        for text in data:\n",
    "            text = re.sub(r'\\\\', ' ', text)\n",
    "            text = re.sub(r'\\d+', '<NUMBER>', text)\n",
    "            text = text.lower()\n",
    "            # remove punctuation\n",
    "            text = re.sub(r'[^\\w\\s]', ' ', text)\n",
    "            tokenized_data.append(word_tokenize(text))\n",
    "        return tokenized_data\n",
    "    \n",
    "    def build_vocab(self, tokenized_data):\n",
    "        OUT_OF_VOCAB = '<OOV>'\n",
    "        PAD_TAG = '<PAD>'\n",
    "        vocab = build_vocab_from_iterator(tokenized_data, specials=[OUT_OF_VOCAB, PAD_TAG])\n",
    "        return vocab\n",
    "    \n",
    "    def text_to_indices(self, tokenized_data, vocab):\n",
    "        indexed_data = []\n",
    "        for sentence in tokenized_data:\n",
    "            indexed_data.append([vocab[token] for token in sentence])\n",
    "        return indexed_data\n",
    "    \n",
    "    def __call__(self):\n",
    "        tokenized_data = self.tokenize(self.data)\n",
    "        vocab = self.build_vocab(tokenized_data)\n",
    "        indexed_data = self.text_to_indices(tokenized_data, vocab)\n",
    "        return indexed_data, vocab, tokenized_data "
   ]
  },
  {
   "cell_type": "code",
   "execution_count": 5,
   "metadata": {},
   "outputs": [],
   "source": [
    "indexed_data, vocab, tokenized_data = Preprocess(data)()"
   ]
  },
  {
   "cell_type": "code",
   "execution_count": 17,
   "metadata": {},
   "outputs": [
    {
     "data": {
      "text/plain": [
       "['reuters',\n",
       " 'short',\n",
       " 'sellers',\n",
       " 'wall',\n",
       " 'street',\n",
       " 's',\n",
       " 'dwindling',\n",
       " 'band',\n",
       " 'of',\n",
       " 'ultra',\n",
       " 'cynics',\n",
       " 'are',\n",
       " 'seeing',\n",
       " 'green',\n",
       " 'again']"
      ]
     },
     "execution_count": 17,
     "metadata": {},
     "output_type": "execute_result"
    }
   ],
   "source": [
    "tokenized_data[0]"
   ]
  },
  {
   "cell_type": "code",
   "execution_count": 27,
   "metadata": {},
   "outputs": [],
   "source": [
    "# build a co-occurrence matrix\n",
    "def build_co_occurrence_matrix(corpus, vocab, window_size=2):\n",
    "    co_occurrence_matrix = sp.lil_matrix((len(vocab), len(vocab)), dtype=np.float32)\n",
    "    for sentence in tqdm(corpus):\n",
    "        for i, word in enumerate(sentence):\n",
    "            for j in range(max(i - window_size, 0), min(i + window_size + 1, len(sentence))):\n",
    "                if i != j:\n",
    "                    co_occurrence_matrix[word, sentence[j]] += 1\n",
    "    return co_occurrence_matrix"
   ]
  },
  {
   "cell_type": "code",
   "execution_count": 28,
   "metadata": {},
   "outputs": [
    {
     "data": {
      "text/plain": [
       "57898"
      ]
     },
     "execution_count": 28,
     "metadata": {},
     "output_type": "execute_result"
    }
   ],
   "source": [
    "len(vocab)"
   ]
  },
  {
   "cell_type": "code",
   "execution_count": 30,
   "metadata": {},
   "outputs": [
    {
     "name": "stderr",
     "output_type": "stream",
     "text": [
      "100%|██████████| 120000/120000 [02:24<00:00, 829.91it/s]\n"
     ]
    }
   ],
   "source": [
    "coocerrence_matrix = build_co_occurrence_matrix(indexed_data, vocab)"
   ]
  },
  {
   "cell_type": "code",
   "execution_count": 31,
   "metadata": {},
   "outputs": [],
   "source": [
    "# svd decomposition\n",
    "def svd(matrix, k):\n",
    "    u, s, v = linalg.svds(matrix, k=k)\n",
    "    return u, s, v"
   ]
  },
  {
   "cell_type": "code",
   "execution_count": 32,
   "metadata": {},
   "outputs": [],
   "source": [
    "u, s, v = svd(coocerrence_matrix, 100)"
   ]
  },
  {
   "cell_type": "code",
   "execution_count": 33,
   "metadata": {},
   "outputs": [],
   "source": [
    "# get word vectors\n",
    "def get_word_vectors(u, s, v, k):\n",
    "    # get sub-matrices for each word\n",
    "    word_vectors = np.dot(u, np.diag(s))\n",
    "    return word_vectors"
   ]
  },
  {
   "cell_type": "code",
   "execution_count": 34,
   "metadata": {},
   "outputs": [],
   "source": [
    "word_vectors = get_word_vectors(u, s, v, 100)"
   ]
  },
  {
   "cell_type": "code",
   "execution_count": 35,
   "metadata": {},
   "outputs": [],
   "source": [
    "# save word vectors along with actual words\n",
    "def save_word_vectors(word_vectors, vocab, file_path):\n",
    "    with open(file_path, 'w') as file:\n",
    "        for i, word in enumerate(vocab.get_itos()):\n",
    "            vector = word_vectors[i]\n",
    "            vector_str = ' '.join([str(x) for x in vector])\n",
    "            file.write(f'{word} {vector_str}\\n')"
   ]
  },
  {
   "cell_type": "code",
   "execution_count": 36,
   "metadata": {},
   "outputs": [],
   "source": [
    "save_word_vectors(word_vectors, vocab, 'word_vectors.txt')"
   ]
  },
  {
   "cell_type": "code",
   "execution_count": null,
   "metadata": {},
   "outputs": [],
   "source": [
    "# save the vocabulary as a pickle file\n",
    "import pickle\n",
    "\n",
    "with open('vocab.pkl', 'wb') as file:\n",
    "    pickle.dump(vocab, file)"
   ]
  }
 ],
 "metadata": {
  "kernelspec": {
   "display_name": "smai",
   "language": "python",
   "name": "python3"
  },
  "language_info": {
   "codemirror_mode": {
    "name": "ipython",
    "version": 3
   },
   "file_extension": ".py",
   "mimetype": "text/x-python",
   "name": "python",
   "nbconvert_exporter": "python",
   "pygments_lexer": "ipython3",
   "version": "3.7.16"
  }
 },
 "nbformat": 4,
 "nbformat_minor": 2
}
